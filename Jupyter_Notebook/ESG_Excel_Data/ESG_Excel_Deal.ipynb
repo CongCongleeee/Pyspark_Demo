{
 "cells": [
  {
   "cell_type": "code",
   "execution_count": 1,
   "id": "9ca9abf8",
   "metadata": {},
   "outputs": [],
   "source": [
    "import pandas as pd\n",
    "import numpy as np\n",
    "import os"
   ]
  },
  {
   "cell_type": "code",
   "execution_count": 2,
   "id": "dbed7afe",
   "metadata": {},
   "outputs": [
    {
     "data": {
      "text/plain": [
       "['13_information for rain days.xlsx',\n",
       " '13_information for rainfall.xlsx',\n",
       " '15_Extreme weather events - ps-x0-82-y0-42.xlsx',\n",
       " '21_A new set of scenarios employed in AR6 - ps - Carbon dioxide - ssp1-1.xlsx',\n",
       " '21_A new set of scenarios employed in AR6 - ps - Carbon dioxide - ssp1-2.xlsx',\n",
       " '21_A new set of scenarios employed in AR6 - ps - Carbon dioxide - ssp2-4.5.xlsx',\n",
       " '21_A new set of scenarios employed in AR6 - ps - Carbon dioxide - ssp3-7.0.xlsx',\n",
       " '21_A new set of scenarios employed in AR6 - ps - Carbon dioxide - ssp5-8.5.xlsx',\n",
       " '21_A new set of scenarios employed in AR6 - ps - Nitrous oxide - SSP1-1.9.xlsx',\n",
       " '21_A new set of scenarios employed in AR6 - ps - Nitrous oxide - SSP1-2.6.xlsx',\n",
       " '21_A new set of scenarios employed in AR6 - ps - Nitrous oxide - SSP2-4.5.xlsx',\n",
       " '21_A new set of scenarios employed in AR6 - ps - Nitrous oxide - SSP3-7.0.xlsx',\n",
       " '21_A new set of scenarios employed in AR6 - ps - Nitrous oxide - SSP5-8.5.xlsx',\n",
       " '21_A new set of scenarios employed in AR6 - ps - one air pollutant and contributor to aerosols sulfur dioxide-SSP1-1.9.xlsx',\n",
       " '21_A new set of scenarios employed in AR6 - ps - one air pollutant and contributor to aerosols sulfur dioxide-SSP1-2.6.xlsx',\n",
       " '21_A new set of scenarios employed in AR6 - ps - one air pollutant and contributor to aerosols sulfur dioxide-SSP2-4.5.xlsx',\n",
       " '21_A new set of scenarios employed in AR6 - ps - one air pollutant and contributor to aerosols sulfur dioxide-SSP3-7.0.xlsx',\n",
       " '21_A new set of scenarios employed in AR6 - ps - one air pollutant and contributor to aerosols sulfur dioxide-SSP5-8.5.xlsx',\n",
       " '21_A new set of scenarios employed in AR6 - ps - select contributors to non-CO2 GHGs - SSP1-1.9.xlsx',\n",
       " '21_A new set of scenarios employed in AR6 - ps - select contributors to non-CO2 GHGs - SSP1-2.6.xlsx',\n",
       " '21_A new set of scenarios employed in AR6 - ps - select contributors to non-CO2 GHGs - SSP2-4.5.xlsx',\n",
       " '21_A new set of scenarios employed in AR6 - ps - select contributors to non-CO2 GHGs - SSP3-7.0.xlsx',\n",
       " '21_A new set of scenarios employed in AR6 - ps - select contributors to non-CO2 GHGs - SSP5-8.5.xlsx',\n",
       " '24_greenhouse gas emissions scenarios - ps - low confidence scenario.xlsx',\n",
       " '24_greenhouse gas emissions scenarios - ps - ssp1-1.9.xlsx',\n",
       " '24_greenhouse gas emissions scenarios - ps - ssp1-2.6.xlsx',\n",
       " '24_greenhouse gas emissions scenarios - ps - ssp2-4.5.xlsx',\n",
       " '24_greenhouse gas emissions scenarios - ps - ssp3-7.0.xlsx',\n",
       " '24_greenhouse gas emissions scenarios - ps - ssp5-8.5.xlsx',\n",
       " '30_Climate Change in Hong Kong - Rainfall.xlsx',\n",
       " 'Image20220715110823.xlsx']"
      ]
     },
     "execution_count": 2,
     "metadata": {},
     "output_type": "execute_result"
    }
   ],
   "source": [
    "folder_path = r'C:\\Users\\YP715HX\\Documents\\Documents\\Spark_Demo\\Jupyter_Notebook\\ESG_Excel_Data'\n",
    "file_list = os.listdir(os.path.join(folder_path,'Source_Data'))\n",
    "file_list"
   ]
  },
  {
   "cell_type": "code",
   "execution_count": 17,
   "id": "4fd46db3",
   "metadata": {},
   "outputs": [],
   "source": [
    "def get_temp_df():\n",
    "    date_index = pd.date_range(start='1980-01-01',end='2101-01-01',freq ='Y')\n",
    "    temp_df = pd.DataFrame(date_index,columns=['Year'])\n",
    "    temp_df['Year'] =temp_df['Year'].dt.strftime('%Y')\n",
    "    return temp_df"
   ]
  },
  {
   "cell_type": "code",
   "execution_count": 4,
   "id": "d266a251",
   "metadata": {},
   "outputs": [],
   "source": [
    "# 21_A new set of scenarios employed in AR6 - ps - Carbon dioxide\n",
    "Carbon_dioxide_df = get_temp_df()\n",
    "# 21_A new set of scenarios employed in AR6 - ps - Nitrous oxide\n",
    "Nitrous_oxide_df = get_temp_df()"
   ]
  },
  {
   "cell_type": "code",
   "execution_count": 5,
   "id": "5144a96a",
   "metadata": {},
   "outputs": [],
   "source": [
    "\n",
    "for file in file_list:\n",
    "# for file in ['21_A new set of scenarios employed in AR6 - ps - Carbon dioxide - ssp1-1.xlsx']:  \n",
    "    Demo_file_path =os.path.join(folder_path,'Source_Data',file)\n",
    "    data_orignal = pd.read_excel(Demo_file_path)\n",
    "    data_orignal.rename(columns={'x_axis':'Year'},inplace=True)\n",
    "    data_orignal['Year'] = data_orignal['Year'].astype(str)\n",
    "    Y_column_name = file.split('ps - ')[-1].replace('.xlsx','')\n",
    "    data_orignal.rename(columns={'y_axis':Y_column_name},inplace=True)\n",
    "\n",
    "    #拼接\n",
    "    if '21_A new set of scenarios employed in AR6 - ps - Carbon dioxide' in file:\n",
    "        Carbon_dioxide_df = pd.merge(Carbon_dioxide_df,data_orignal,on='Year',how='left',sort=True)\n",
    "    elif '21_A new set of scenarios employed in AR6 - ps - Nitrous oxide' in file:\n",
    "        Nitrous_oxide_df = pd.merge(Nitrous_oxide_df,data_orignal,on='Year',how='left',sort=True)\n",
    "     "
   ]
  },
  {
   "cell_type": "code",
   "execution_count": 6,
   "id": "63b0a24d",
   "metadata": {},
   "outputs": [],
   "source": [
    "Carbon_dioxide_df = Carbon_dioxide_df.dropna(axis=0,how='any',thresh=len(Carbon_dioxide_df.columns)-1).reset_index(drop=True)\n",
    "Carbon_dioxide_df.to_excel(os.path.join(folder_path,'Result_Data',f\"21_A new set of scenarios employed in AR6 - ps - Carbon dioxide.xlsx\"))"
   ]
  },
  {
   "cell_type": "code",
   "execution_count": 8,
   "id": "1a12f34c",
   "metadata": {},
   "outputs": [],
   "source": [
    "Nitrous_oxide_df = Nitrous_oxide_df.dropna(axis=0,how='any',thresh=len(Nitrous_oxide_df.columns)-1).reset_index()\n",
    "Nitrous_oxide_df.to_excel(os.path.join(folder_path,'Result_Data',f\"21_A new set of scenarios employed in AR6 - ps - Nitrous oxide.xlsx\"))"
   ]
  },
  {
   "cell_type": "code",
   "execution_count": null,
   "id": "f7c0a267",
   "metadata": {},
   "outputs": [],
   "source": []
  },
  {
   "cell_type": "code",
   "execution_count": 27,
   "id": "14b8299c",
   "metadata": {
    "scrolled": true
   },
   "outputs": [
    {
     "data": {
      "text/html": [
       "<div>\n",
       "<style scoped>\n",
       "    .dataframe tbody tr th:only-of-type {\n",
       "        vertical-align: middle;\n",
       "    }\n",
       "\n",
       "    .dataframe tbody tr th {\n",
       "        vertical-align: top;\n",
       "    }\n",
       "\n",
       "    .dataframe thead th {\n",
       "        text-align: right;\n",
       "    }\n",
       "</style>\n",
       "<table border=\"1\" class=\"dataframe\">\n",
       "  <thead>\n",
       "    <tr style=\"text-align: right;\">\n",
       "      <th></th>\n",
       "      <th>file</th>\n",
       "      <th>columns</th>\n",
       "    </tr>\n",
       "  </thead>\n",
       "  <tbody>\n",
       "    <tr>\n",
       "      <th>0</th>\n",
       "      <td>102_Graph_Number of Flooding Blackspots over the years_Major Blackspots.xlsx</td>\n",
       "      <td>['Year', '102_Graph_Number of Flooding Blackspots over the years_Major Blackspots']</td>\n",
       "    </tr>\n",
       "    <tr>\n",
       "      <th>1</th>\n",
       "      <td>102_Graph_Number of Flooding Blackspots over the years_Medium Small or Minor Blackspots.xlsx</td>\n",
       "      <td>['Year', '102_Graph_Number of Flooding Blackspots over the years_Medium Small or Minor Blackspots']</td>\n",
       "    </tr>\n",
       "    <tr>\n",
       "      <th>2</th>\n",
       "      <td>13_information for rain days.xlsx</td>\n",
       "      <td>['Year', '13_information for rain days']</td>\n",
       "    </tr>\n",
       "    <tr>\n",
       "      <th>3</th>\n",
       "      <td>13_information for rainfall.xlsx</td>\n",
       "      <td>['Year', '13_information for rainfall']</td>\n",
       "    </tr>\n",
       "    <tr>\n",
       "      <th>4</th>\n",
       "      <td>21_A new set of scenarios employed in AR6 - ps - Carbon dioxide.xlsx</td>\n",
       "      <td>['Year', ' Carbon dioxide - ssp1-1.9', ' Carbon dioxide - ssp1-2.6', ' Carbon dioxide - ssp2-4.5', ' Carbon dioxide - ssp3-7.0', ' Carbon dioxide - ssp5-8.5']</td>\n",
       "    </tr>\n",
       "    <tr>\n",
       "      <th>5</th>\n",
       "      <td>21_A new set of scenarios employed in AR6 - ps - Nitrous oxide.xlsx</td>\n",
       "      <td>['Year', ' Nitrous oxide - SSP1-1.9', ' Nitrous oxide - SSP1-2.6', ' Nitrous oxide - SSP2-4.5', ' Nitrous oxide - SSP3-7.0', ' Nitrous oxide - SSP5-8.5']</td>\n",
       "    </tr>\n",
       "    <tr>\n",
       "      <th>6</th>\n",
       "      <td>21_A new set of scenarios employed in AR6 - ps - one air pollutant and contributor to aerosols sulfur dioxide.xlsx</td>\n",
       "      <td>['Year', ' one air pollutant and contributor to aerosols sulfur dioxide-SSP1-1.9', ' one air pollutant and contributor to aerosols sulfur dioxide-SSP1-2.6', ' one air pollutant and contributor to aerosols sulfur dioxide-SSP2-4.5', ' one air pollutant and contributor to aerosols sulfur dioxide-SSP3-7.0', ' one air pollutant and contributor to aerosols sulfur dioxide-SSP5-8.5']</td>\n",
       "    </tr>\n",
       "    <tr>\n",
       "      <th>7</th>\n",
       "      <td>21_A new set of scenarios employed in AR6 - ps - select contributors to non-CO2 GHGs.xlsx</td>\n",
       "      <td>['Year', ' select contributors to non-CO2 GHGs - SSP1-1.9', ' select contributors to non-CO2 GHGs - SSP1-2.6', ' select contributors to non-CO2 GHGs - SSP2-4.5', ' select contributors to non-CO2 GHGs - SSP3-7.0', ' select contributors to non-CO2 GHGs - SSP5-8.5']</td>\n",
       "    </tr>\n",
       "    <tr>\n",
       "      <th>8</th>\n",
       "      <td>24_greenhouse gas emissions scenarios.xlsx</td>\n",
       "      <td>['Year', ' low confidence scenario', ' ssp1-1.9', ' ssp1-2.6', ' ssp2-4.5', ' ssp3-7.0', ' ssp5-8.5']</td>\n",
       "    </tr>\n",
       "    <tr>\n",
       "      <th>9</th>\n",
       "      <td>30_Climate Change in Hong Kong - Rainfall.xlsx</td>\n",
       "      <td>['Year', '30_Climate Change in Hong Kong - Rainfall.xlsx']</td>\n",
       "    </tr>\n",
       "    <tr>\n",
       "      <th>10</th>\n",
       "      <td>70_Standardized Precipitation Index (SPI).xlsx</td>\n",
       "      <td>['Year', ' SP1-2.4', ' SPI-6']</td>\n",
       "    </tr>\n",
       "    <tr>\n",
       "      <th>11</th>\n",
       "      <td>91_Graph_Casualties caused by tropical cyclones affecting Hong Kong during 1960-2012.xlsx</td>\n",
       "      <td>['Year', '91_Graph_Casualties caused by tropical cyclones affecting Hong Kong during 1960-2012']</td>\n",
       "    </tr>\n",
       "    <tr>\n",
       "      <th>12</th>\n",
       "      <td>91_Graph_Projections of global mean sea level rise over the 21st century (relative to 1986-2005).xlsx</td>\n",
       "      <td>['Year', 'RCP2.6', 'RCP8.5']</td>\n",
       "    </tr>\n",
       "  </tbody>\n",
       "</table>\n",
       "</div>"
      ],
      "text/plain": [
       "                                                                                                                  file  \\\n",
       "0                                         102_Graph_Number of Flooding Blackspots over the years_Major Blackspots.xlsx   \n",
       "1                         102_Graph_Number of Flooding Blackspots over the years_Medium Small or Minor Blackspots.xlsx   \n",
       "2                                                                                    13_information for rain days.xlsx   \n",
       "3                                                                                     13_information for rainfall.xlsx   \n",
       "4                                                 21_A new set of scenarios employed in AR6 - ps - Carbon dioxide.xlsx   \n",
       "5                                                  21_A new set of scenarios employed in AR6 - ps - Nitrous oxide.xlsx   \n",
       "6   21_A new set of scenarios employed in AR6 - ps - one air pollutant and contributor to aerosols sulfur dioxide.xlsx   \n",
       "7                            21_A new set of scenarios employed in AR6 - ps - select contributors to non-CO2 GHGs.xlsx   \n",
       "8                                                                           24_greenhouse gas emissions scenarios.xlsx   \n",
       "9                                                                       30_Climate Change in Hong Kong - Rainfall.xlsx   \n",
       "10                                                                      70_Standardized Precipitation Index (SPI).xlsx   \n",
       "11                           91_Graph_Casualties caused by tropical cyclones affecting Hong Kong during 1960-2012.xlsx   \n",
       "12               91_Graph_Projections of global mean sea level rise over the 21st century (relative to 1986-2005).xlsx   \n",
       "\n",
       "                                                                                                                                                                                                                                                                                                                                                                                       columns  \n",
       "0                                                                                                                                                                                                                                                                                                          ['Year', '102_Graph_Number of Flooding Blackspots over the years_Major Blackspots']  \n",
       "1                                                                                                                                                                                                                                                                                          ['Year', '102_Graph_Number of Flooding Blackspots over the years_Medium Small or Minor Blackspots']  \n",
       "2                                                                                                                                                                                                                                                                                                                                                     ['Year', '13_information for rain days']  \n",
       "3                                                                                                                                                                                                                                                                                                                                                      ['Year', '13_information for rainfall']  \n",
       "4                                                                                                                                                                                                                               ['Year', ' Carbon dioxide - ssp1-1.9', ' Carbon dioxide - ssp1-2.6', ' Carbon dioxide - ssp2-4.5', ' Carbon dioxide - ssp3-7.0', ' Carbon dioxide - ssp5-8.5']  \n",
       "5                                                                                                                                                                                                                                    ['Year', ' Nitrous oxide - SSP1-1.9', ' Nitrous oxide - SSP1-2.6', ' Nitrous oxide - SSP2-4.5', ' Nitrous oxide - SSP3-7.0', ' Nitrous oxide - SSP5-8.5']  \n",
       "6   ['Year', ' one air pollutant and contributor to aerosols sulfur dioxide-SSP1-1.9', ' one air pollutant and contributor to aerosols sulfur dioxide-SSP1-2.6', ' one air pollutant and contributor to aerosols sulfur dioxide-SSP2-4.5', ' one air pollutant and contributor to aerosols sulfur dioxide-SSP3-7.0', ' one air pollutant and contributor to aerosols sulfur dioxide-SSP5-8.5']  \n",
       "7                                                                                                                      ['Year', ' select contributors to non-CO2 GHGs - SSP1-1.9', ' select contributors to non-CO2 GHGs - SSP1-2.6', ' select contributors to non-CO2 GHGs - SSP2-4.5', ' select contributors to non-CO2 GHGs - SSP3-7.0', ' select contributors to non-CO2 GHGs - SSP5-8.5']  \n",
       "8                                                                                                                                                                                                                                                                                        ['Year', ' low confidence scenario', ' ssp1-1.9', ' ssp1-2.6', ' ssp2-4.5', ' ssp3-7.0', ' ssp5-8.5']  \n",
       "9                                                                                                                                                                                                                                                                                                                                   ['Year', '30_Climate Change in Hong Kong - Rainfall.xlsx']  \n",
       "10                                                                                                                                                                                                                                                                                                                                                              ['Year', ' SP1-2.4', ' SPI-6']  \n",
       "11                                                                                                                                                                                                                                                                                            ['Year', '91_Graph_Casualties caused by tropical cyclones affecting Hong Kong during 1960-2012']  \n",
       "12                                                                                                                                                                                                                                                                                                                                                                ['Year', 'RCP2.6', 'RCP8.5']  "
      ]
     },
     "execution_count": 27,
     "metadata": {},
     "output_type": "execute_result"
    }
   ],
   "source": [
    "# 查询文件列表\n",
    "import os \n",
    "import pandas as pd \n",
    "\n",
    "#显示所有列\n",
    "pd.set_option('display.max_columns', None)\n",
    "#显示所有行\n",
    "pd.set_option('display.max_rows', None)\n",
    "#设置value的显示长度为100，默认为50\n",
    "pd.set_option('max_colwidth',1000)\n",
    "\n",
    "folder_path = r'C:\\Users\\YP715HX\\Documents\\Documents\\Spark_Demo\\Jupyter_Notebook\\ESG_Excel_Data'\n",
    "file_list = os.listdir(os.path.join(folder_path,'Result_Data'))\n",
    "res_df = pd.DataFrame(columns=['file','columns'])\n",
    "for num,file in enumerate(file_list):\n",
    "    data = pd.read_excel(os.path.join(folder_path,'Result_Data',file))\n",
    "    temp_df = pd.DataFrame({'file':file,'columns':f'{data.columns.tolist()}'},index=[num]) \n",
    "    res_df = pd.concat([res_df,temp_df],axis=0)\n",
    "res_df"
   ]
  }
 ],
 "metadata": {
  "kernelspec": {
   "display_name": "Python 3 (ipykernel)",
   "language": "python",
   "name": "python3"
  },
  "language_info": {
   "codemirror_mode": {
    "name": "ipython",
    "version": 3
   },
   "file_extension": ".py",
   "mimetype": "text/x-python",
   "name": "python",
   "nbconvert_exporter": "python",
   "pygments_lexer": "ipython3",
   "version": "3.9.1"
  }
 },
 "nbformat": 4,
 "nbformat_minor": 5
}
