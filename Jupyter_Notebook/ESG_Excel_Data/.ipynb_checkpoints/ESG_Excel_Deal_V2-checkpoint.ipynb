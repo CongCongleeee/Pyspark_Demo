{
 "cells": [
  {
   "cell_type": "code",
   "execution_count": 22,
   "id": "9ca9abf8",
   "metadata": {},
   "outputs": [],
   "source": [
    "import pandas as pd\n",
    "import numpy as np\n",
    "import os"
   ]
  },
  {
   "cell_type": "code",
   "execution_count": 23,
   "id": "dbed7afe",
   "metadata": {},
   "outputs": [],
   "source": [
    "class deal_data():\n",
    "    def __init__(self,pic='0000'):\n",
    "        self.pic = pic\n",
    "\n",
    "    def get_temp_df(self):\n",
    "        date_index = pd.date_range(start='1980-01-01',end='2101-01-01',freq ='Y')\n",
    "        temp_df = pd.DataFrame(date_index,columns=['Year'])\n",
    "        temp_df['Year'] =temp_df['Year'].dt.strftime('%Y')\n",
    "        return temp_df\n",
    "    \n",
    "    def main(self):\n",
    "        folder_path = r'C:\\Users\\YP715HX\\Documents\\Documents\\Spark_Demo\\Jupyter_Notebook\\ESG_Excel_Data'\n",
    "        file_list = os.listdir(os.path.join(folder_path,'Source_Data'))\n",
    "        # 21_A new set of scenarios employed in AR6 - ps - Carbon dioxide\n",
    "        Carbon_dioxide_df = self.get_temp_df()\n",
    "        # 21_A new set of scenarios employed in AR6 - ps - Nitrous oxide\n",
    "        Nitrous_oxide_df = self.get_temp_df()\n",
    "        for file in file_list:\n",
    "        # for file in ['21_A new set of scenarios employed in AR6 - ps - Carbon dioxide - ssp1-1.xlsx']:  \n",
    "            Demo_file_path =os.path.join(folder_path,'Source_Data',file)\n",
    "            data_orignal = pd.read_excel(Demo_file_path)\n",
    "            data_orignal.rename(columns={'x_axis':'Year'},inplace=True)\n",
    "            data_orignal['Year'] = data_orignal['Year'].astype(str)\n",
    "            Y_column_name = file.split('- ps -')[-1].replace('.xlsx','')\n",
    "            data_orignal.rename(columns={'y_axis':Y_column_name},inplace=True)\n",
    "\n",
    "            #拼接\n",
    "            if self.pic in file:\n",
    "                Carbon_dioxide_df = pd.merge(Carbon_dioxide_df,data_orignal,on='Year',how='left',sort=True)\n",
    "                Carbon_dioxide_df = Carbon_dioxide_df.dropna(axis=0,how='any',thresh=len(Carbon_dioxide_df.columns)-1).reset_index(drop=True)\n",
    "                Carbon_dioxide_df.to_excel(os.path.join(folder_path,'Result_Data',f\"{self.pic}.xlsx\"),index= False)\n",
    "        print(f\"{self.pic}.xlsx\")\n",
    "    \n",
    "    def main_other(self):\n",
    "        folder_path = r'C:\\Users\\YP715HX\\Documents\\Documents\\Spark_Demo\\Jupyter_Notebook\\ESG_Excel_Data'\n",
    "        file_list = os.listdir(os.path.join(folder_path,'Source_Data'))\n",
    "        # 21_A new set of scenarios employed in AR6 - ps - Carbon dioxide\n",
    "        Carbon_dioxide_df = self.get_temp_df()\n",
    "        # 21_A new set of scenarios employed in AR6 - ps - Nitrous oxide\n",
    "        Nitrous_oxide_df = self.get_temp_df()\n",
    "        for file in file_list:\n",
    "        # for file in ['21_A new set of scenarios employed in AR6 - ps - Carbon dioxide - ssp1-1.xlsx']:  \n",
    "            Demo_file_path =os.path.join(folder_path,'Source_Data',file)\n",
    "            data_orignal = pd.read_excel(Demo_file_path)\n",
    "            data_orignal.rename(columns={'x_axis':'Year'},inplace=True)\n",
    "            data_orignal['Year'] = data_orignal['Year'].astype(str)\n",
    "            Y_column_name = file.split('_ps')[0]\n",
    "            data_orignal.rename(columns={'y_axis':Y_column_name},inplace=True)\n",
    "\n",
    "            #拼接\n",
    "            if  '- ps -' not in file :\n",
    "                file = os.path.splitext(file)[0].replace('_ps','') + os.path.splitext(file)[1]\n",
    "                print(file)\n",
    "                data_orignal.to_excel(os.path.join(folder_path,'Result_Data',file),index= False)  \n",
    "                "
   ]
  },
  {
   "cell_type": "code",
   "execution_count": 24,
   "id": "63b0a24d",
   "metadata": {},
   "outputs": [],
   "source": [
    "#21_A new set of scenarios employed in AR6 - ps - Carbon dioxide\n",
    "#21_A new set of scenarios employed in AR6 - ps - Nitrous oxide\n",
    "#21_A new set of scenarios employed in AR6 - ps - one air pollutant and contributor to aerosols sulfur dioxide\n",
    "#21_A new set of scenarios employed in AR6 - ps - select contributors to non-CO2 GHGs\n",
    "#24_greenhouse gas emissions scenarios\n",
    "# 70_Standardized Precipitation Index (SPI)\n",
    "# 91_Graph_Projections of global mean sea level rise over the 21st century (relative to 1986-2005)\n",
    "\n"
   ]
  },
  {
   "cell_type": "code",
   "execution_count": 25,
   "id": "ae00faf9",
   "metadata": {},
   "outputs": [],
   "source": [
    "deal_data('21_A new set of scenarios employed in AR6 - ps - Carbon dioxide').main()\n",
    "deal_data('21_A new set of scenarios employed in AR6 - ps - Nitrous oxide').main()\n",
    "deal_data('21_A new set of scenarios employed in AR6 - ps - one air pollutant and contributor to aerosols sulfur dioxide').main()\n",
    "deal_data('21_A new set of scenarios employed in AR6 - ps - select contributors to non-CO2 GHGs').main()\n",
    "deal_data('24_greenhouse gas emissions scenarios').main()\n",
    "deal_data('70_Standardized Precipitation Index (SPI)').main()\n",
    "deal_data('91_Graph_Projections of global mean sea level rise over the 21st century (relative to 1986-2005)').main()"
   ]
  },
  {
   "cell_type": "code",
   "execution_count": 26,
   "id": "1a7cbee9",
   "metadata": {},
   "outputs": [
    {
     "name": "stdout",
     "output_type": "stream",
     "text": [
      "102_Graph_Number of Flooding Blackspots over the years_Major Blackspots.xlsx\n",
      "102_Graph_Number of Flooding Blackspots over the years_Medium Small or Minor Blackspots.xlsx\n",
      "13_information for rain days.xlsx\n",
      "13_information for rainfall.xlsx\n",
      "30_Climate Change in Hong Kong - Rainfall.xlsx\n",
      "91_Graph_Casualties caused by tropical cyclones affecting Hong Kong during 1960-2012.xlsx\n"
     ]
    }
   ],
   "source": [
    "deal_data().main_other()"
   ]
  }
 ],
 "metadata": {
  "kernelspec": {
   "display_name": "Python 3 (ipykernel)",
   "language": "python",
   "name": "python3"
  },
  "language_info": {
   "codemirror_mode": {
    "name": "ipython",
    "version": 3
   },
   "file_extension": ".py",
   "mimetype": "text/x-python",
   "name": "python",
   "nbconvert_exporter": "python",
   "pygments_lexer": "ipython3",
   "version": "3.9.1"
  }
 },
 "nbformat": 4,
 "nbformat_minor": 5
}
