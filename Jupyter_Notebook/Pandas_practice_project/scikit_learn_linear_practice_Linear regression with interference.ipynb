{
 "cells": [
  {
   "cell_type": "code",
   "execution_count": 221,
   "id": "793b54ae",
   "metadata": {},
   "outputs": [],
   "source": [
    "import numpy as np\n",
    "from sklearn import linear_model \n",
    "import matplotlib.pyplot as plt\n",
    "from sklearn.metrics import zero_one_loss"
   ]
  },
  {
   "cell_type": "code",
   "execution_count": 222,
   "id": "0edbb5aa",
   "metadata": {},
   "outputs": [
    {
     "data": {
      "text/plain": [
       "array([3.        , 3.03030303, 3.06060606, 3.09090909, 3.12121212,\n",
       "       3.15151515, 3.18181818, 3.21212121, 3.24242424, 3.27272727,\n",
       "       3.3030303 , 3.33333333, 3.36363636, 3.39393939, 3.42424242,\n",
       "       3.45454545, 3.48484848, 3.51515152, 3.54545455, 3.57575758,\n",
       "       3.60606061, 3.63636364, 3.66666667, 3.6969697 , 3.72727273,\n",
       "       3.75757576, 3.78787879, 3.81818182, 3.84848485, 3.87878788,\n",
       "       3.90909091, 3.93939394, 3.96969697, 4.        , 4.03030303,\n",
       "       4.06060606, 4.09090909, 4.12121212, 4.15151515, 4.18181818,\n",
       "       4.21212121, 4.24242424, 4.27272727, 4.3030303 , 4.33333333,\n",
       "       4.36363636, 4.39393939, 4.42424242, 4.45454545, 4.48484848,\n",
       "       4.51515152, 4.54545455, 4.57575758, 4.60606061, 4.63636364,\n",
       "       4.66666667, 4.6969697 , 4.72727273, 4.75757576, 4.78787879,\n",
       "       4.81818182, 4.84848485, 4.87878788, 4.90909091, 4.93939394,\n",
       "       4.96969697, 5.        , 5.03030303, 5.06060606, 5.09090909,\n",
       "       5.12121212, 5.15151515, 5.18181818, 5.21212121, 5.24242424,\n",
       "       5.27272727, 5.3030303 , 5.33333333, 5.36363636, 5.39393939,\n",
       "       5.42424242, 5.45454545, 5.48484848, 5.51515152, 5.54545455,\n",
       "       5.57575758, 5.60606061, 5.63636364, 5.66666667, 5.6969697 ,\n",
       "       5.72727273, 5.75757576, 5.78787879, 5.81818182, 5.84848485,\n",
       "       5.87878788, 5.90909091, 5.93939394, 5.96969697, 6.        ])"
      ]
     },
     "execution_count": 222,
     "metadata": {},
     "output_type": "execute_result"
    }
   ],
   "source": [
    "#制造自变量数据\n",
    "x = np.linspace(3,6,100)\n",
    "x "
   ]
  },
  {
   "cell_type": "code",
   "execution_count": 223,
   "id": "6d7b2cf9",
   "metadata": {},
   "outputs": [
    {
     "data": {
      "text/plain": [
       "array([11.        , 11.09090909, 11.18181818, 11.27272727, 11.36363636,\n",
       "       11.45454545, 11.54545455, 11.63636364, 11.72727273, 11.81818182,\n",
       "       11.90909091, 12.        , 12.09090909, 12.18181818, 12.27272727,\n",
       "       12.36363636, 12.45454545, 12.54545455, 12.63636364, 12.72727273,\n",
       "       12.81818182, 12.90909091, 13.        , 13.09090909, 13.18181818,\n",
       "       13.27272727, 13.36363636, 13.45454545, 13.54545455, 13.63636364,\n",
       "       13.72727273, 13.81818182, 13.90909091, 14.        , 14.09090909,\n",
       "       14.18181818, 14.27272727, 14.36363636, 14.45454545, 14.54545455,\n",
       "       14.63636364, 14.72727273, 14.81818182, 14.90909091, 15.        ,\n",
       "       15.09090909, 15.18181818, 15.27272727, 15.36363636, 15.45454545,\n",
       "       15.54545455, 15.63636364, 15.72727273, 15.81818182, 15.90909091,\n",
       "       16.        , 16.09090909, 16.18181818, 16.27272727, 16.36363636,\n",
       "       16.45454545, 16.54545455, 16.63636364, 16.72727273, 16.81818182,\n",
       "       16.90909091, 17.        , 17.09090909, 17.18181818, 17.27272727,\n",
       "       17.36363636, 17.45454545, 17.54545455, 17.63636364, 17.72727273,\n",
       "       17.81818182, 17.90909091, 18.        , 18.09090909, 18.18181818,\n",
       "       18.27272727, 18.36363636, 18.45454545, 18.54545455, 18.63636364,\n",
       "       18.72727273, 18.81818182, 18.90909091, 19.        , 19.09090909,\n",
       "       19.18181818, 19.27272727, 19.36363636, 19.45454545, 19.54545455,\n",
       "       19.63636364, 19.72727273, 19.81818182, 19.90909091, 20.        ])"
      ]
     },
     "execution_count": 223,
     "metadata": {},
     "output_type": "execute_result"
    }
   ],
   "source": [
    "#制造假设函数\n",
    "y =3*x+2\n",
    "y "
   ]
  },
  {
   "cell_type": "code",
   "execution_count": 224,
   "id": "40d32fdd",
   "metadata": {},
   "outputs": [
    {
     "data": {
      "text/plain": [
       "array([3.417022  , 3.75062752, 3.06072044, 3.39324166, 3.26796801,\n",
       "       3.24385375, 3.36807839, 3.55768194, 3.63919172, 3.81154401,\n",
       "       3.72222482, 4.01855283, 3.56808861, 4.27205683, 3.45163002,\n",
       "       4.12501296, 3.90215329, 4.07384134, 3.68584148, 3.77385906,\n",
       "       4.40680517, 4.60462521, 3.98009084, 4.38929231, 4.60366188,\n",
       "       4.65218242, 3.872923  , 3.8572366 , 4.01831527, 4.75693038,\n",
       "       4.00743774, 4.36050156, 4.9275865 , 4.53316528, 4.72218014,\n",
       "       4.37612169, 4.77741002, 4.95583779, 4.16980343, 4.9319625 ,\n",
       "       5.2009823 , 4.9905899 , 4.55317126, 5.09230963, 4.43655934,\n",
       "       4.81152989, 5.3025349 , 4.71785657, 4.74232079, 4.61487706,\n",
       "       4.53451847, 5.22429008, 4.78738569, 4.87160727, 5.1279368 ,\n",
       "       4.72002921, 5.2710873 , 4.8740013 , 5.34688129, 5.48763715,\n",
       "       4.92051625, 5.26254084, 5.57318804, 5.32327018, 4.9893474 ,\n",
       "       5.50559338, 5.66379465, 5.54519214, 6.00520082, 5.67746413,\n",
       "       6.02461404, 5.28898986, 5.32109453, 6.0195125 , 5.64010108,\n",
       "       5.43808147, 6.23053888, 5.68109919, 6.11444847, 6.11993738,\n",
       "       6.30754852, 6.07821766, 6.23579092, 5.86404986, 5.81538244,\n",
       "       6.47164379, 6.0341518 , 6.60120368, 6.33010816, 6.31866542,\n",
       "       5.8420187 , 6.70706502, 6.23779092, 6.39657143, 6.25662165,\n",
       "       6.11581486, 6.81247043, 6.51307343, 5.9725673 , 6.61714491])"
      ]
     },
     "execution_count": 224,
     "metadata": {},
     "output_type": "execute_result"
    }
   ],
   "source": [
    "#添加干扰(固定随机数)\n",
    "np.random.seed(1)\n",
    "x = x + np.random.rand(100)\n",
    "x "
   ]
  },
  {
   "cell_type": "code",
   "execution_count": null,
   "id": "2ab4283b",
   "metadata": {},
   "outputs": [],
   "source": []
  },
  {
   "cell_type": "code",
   "execution_count": 225,
   "id": "396ad331",
   "metadata": {},
   "outputs": [],
   "source": [
    "#x,y 转换数据类型\n",
    "x = [[i] for i in x]\n",
    "y = [[i] for i in y] "
   ]
  },
  {
   "cell_type": "code",
   "execution_count": 226,
   "id": "58d85107",
   "metadata": {},
   "outputs": [
    {
     "data": {
      "text/html": [
       "<style>#sk-container-id-15 {color: black;background-color: white;}#sk-container-id-15 pre{padding: 0;}#sk-container-id-15 div.sk-toggleable {background-color: white;}#sk-container-id-15 label.sk-toggleable__label {cursor: pointer;display: block;width: 100%;margin-bottom: 0;padding: 0.3em;box-sizing: border-box;text-align: center;}#sk-container-id-15 label.sk-toggleable__label-arrow:before {content: \"▸\";float: left;margin-right: 0.25em;color: #696969;}#sk-container-id-15 label.sk-toggleable__label-arrow:hover:before {color: black;}#sk-container-id-15 div.sk-estimator:hover label.sk-toggleable__label-arrow:before {color: black;}#sk-container-id-15 div.sk-toggleable__content {max-height: 0;max-width: 0;overflow: hidden;text-align: left;background-color: #f0f8ff;}#sk-container-id-15 div.sk-toggleable__content pre {margin: 0.2em;color: black;border-radius: 0.25em;background-color: #f0f8ff;}#sk-container-id-15 input.sk-toggleable__control:checked~div.sk-toggleable__content {max-height: 200px;max-width: 100%;overflow: auto;}#sk-container-id-15 input.sk-toggleable__control:checked~label.sk-toggleable__label-arrow:before {content: \"▾\";}#sk-container-id-15 div.sk-estimator input.sk-toggleable__control:checked~label.sk-toggleable__label {background-color: #d4ebff;}#sk-container-id-15 div.sk-label input.sk-toggleable__control:checked~label.sk-toggleable__label {background-color: #d4ebff;}#sk-container-id-15 input.sk-hidden--visually {border: 0;clip: rect(1px 1px 1px 1px);clip: rect(1px, 1px, 1px, 1px);height: 1px;margin: -1px;overflow: hidden;padding: 0;position: absolute;width: 1px;}#sk-container-id-15 div.sk-estimator {font-family: monospace;background-color: #f0f8ff;border: 1px dotted black;border-radius: 0.25em;box-sizing: border-box;margin-bottom: 0.5em;}#sk-container-id-15 div.sk-estimator:hover {background-color: #d4ebff;}#sk-container-id-15 div.sk-parallel-item::after {content: \"\";width: 100%;border-bottom: 1px solid gray;flex-grow: 1;}#sk-container-id-15 div.sk-label:hover label.sk-toggleable__label {background-color: #d4ebff;}#sk-container-id-15 div.sk-serial::before {content: \"\";position: absolute;border-left: 1px solid gray;box-sizing: border-box;top: 0;bottom: 0;left: 50%;z-index: 0;}#sk-container-id-15 div.sk-serial {display: flex;flex-direction: column;align-items: center;background-color: white;padding-right: 0.2em;padding-left: 0.2em;position: relative;}#sk-container-id-15 div.sk-item {position: relative;z-index: 1;}#sk-container-id-15 div.sk-parallel {display: flex;align-items: stretch;justify-content: center;background-color: white;position: relative;}#sk-container-id-15 div.sk-item::before, #sk-container-id-15 div.sk-parallel-item::before {content: \"\";position: absolute;border-left: 1px solid gray;box-sizing: border-box;top: 0;bottom: 0;left: 50%;z-index: -1;}#sk-container-id-15 div.sk-parallel-item {display: flex;flex-direction: column;z-index: 1;position: relative;background-color: white;}#sk-container-id-15 div.sk-parallel-item:first-child::after {align-self: flex-end;width: 50%;}#sk-container-id-15 div.sk-parallel-item:last-child::after {align-self: flex-start;width: 50%;}#sk-container-id-15 div.sk-parallel-item:only-child::after {width: 0;}#sk-container-id-15 div.sk-dashed-wrapped {border: 1px dashed gray;margin: 0 0.4em 0.5em 0.4em;box-sizing: border-box;padding-bottom: 0.4em;background-color: white;}#sk-container-id-15 div.sk-label label {font-family: monospace;font-weight: bold;display: inline-block;line-height: 1.2em;}#sk-container-id-15 div.sk-label-container {text-align: center;}#sk-container-id-15 div.sk-container {/* jupyter's `normalize.less` sets `[hidden] { display: none; }` but bootstrap.min.css set `[hidden] { display: none !important; }` so we also need the `!important` here to be able to override the default hidden behavior on the sphinx rendered scikit-learn.org. See: https://github.com/scikit-learn/scikit-learn/issues/21755 */display: inline-block !important;position: relative;}#sk-container-id-15 div.sk-text-repr-fallback {display: none;}</style><div id=\"sk-container-id-15\" class=\"sk-top-container\"><div class=\"sk-text-repr-fallback\"><pre>LinearRegression()</pre><b>In a Jupyter environment, please rerun this cell to show the HTML representation or trust the notebook. <br />On GitHub, the HTML representation is unable to render, please try loading this page with nbviewer.org.</b></div><div class=\"sk-container\" hidden><div class=\"sk-item\"><div class=\"sk-estimator sk-toggleable\"><input class=\"sk-toggleable__control sk-hidden--visually\" id=\"sk-estimator-id-15\" type=\"checkbox\" checked><label for=\"sk-estimator-id-15\" class=\"sk-toggleable__label sk-toggleable__label-arrow\">LinearRegression</label><div class=\"sk-toggleable__content\"><pre>LinearRegression()</pre></div></div></div></div></div>"
      ],
      "text/plain": [
       "LinearRegression()"
      ]
     },
     "execution_count": 226,
     "metadata": {},
     "output_type": "execute_result"
    }
   ],
   "source": [
    "# 模型训练\n",
    "model = linear_model.LinearRegression()\n",
    "model.fit(x,y)"
   ]
  },
  {
   "cell_type": "code",
   "execution_count": 227,
   "id": "d8ea7c58",
   "metadata": {},
   "outputs": [
    {
     "data": {
      "text/plain": [
       "array([[10.35046765],\n",
       "       [12.94354363],\n",
       "       [15.53661961],\n",
       "       [18.12969559],\n",
       "       [20.72277156]])"
      ]
     },
     "execution_count": 227,
     "metadata": {},
     "output_type": "execute_result"
    }
   ],
   "source": [
    "#制造测试自变量数据并预测\n",
    "x_ = [[i] for i in range(3,8)]\n",
    "y_ = model.predict(x_)\n",
    "y_"
   ]
  },
  {
   "cell_type": "code",
   "execution_count": 228,
   "id": "6c180a1c",
   "metadata": {
    "scrolled": true
   },
   "outputs": [
    {
     "name": "stdout",
     "output_type": "stream",
     "text": [
      "the value of w:  [[2.59307598]]\n",
      "the value of b:  [2.57123971]\n"
     ]
    }
   ],
   "source": [
    "# 查看w和截距b的值\n",
    "print('the value of w: ',model.coef_)\n",
    "print('the value of b: ',model.intercept_)"
   ]
  },
  {
   "cell_type": "code",
   "execution_count": 229,
   "id": "322d975d",
   "metadata": {},
   "outputs": [
    {
     "data": {
      "image/png": "[encoded data removed]",
      "text/plain": [
       "<Figure size 432x288 with 1 Axes>"
      ]
     },
     "metadata": {
      "needs_background": "light"
     },
     "output_type": "display_data"
    }
   ],
   "source": [
    "# 数据集绘制,散点图，图像满足函假设函数图像\n",
    "plt.scatter(x=x,y=y)\n",
    "#绘制最佳拟合直线\n",
    "plt.plot(x_,y_,color='green',linestyle='-',linewidth=3)\n",
    "plt.show()"
   ]
  },
  {
   "cell_type": "code",
   "execution_count": 235,
   "id": "7f57ed3f",
   "metadata": {},
   "outputs": [
    {
     "data": {
      "text/plain": [
       "(100, 1)"
      ]
     },
     "execution_count": 235,
     "metadata": {},
     "output_type": "execute_result"
    }
   ],
   "source": [
    "# x自变量训练集的预测值\n",
    "y_pred = model.predict(x)\n",
    "y_pred.shape"
   ]
  },
  {
   "cell_type": "code",
   "execution_count": 241,
   "id": "c6fb9cda",
   "metadata": {},
   "outputs": [
    {
     "data": {
      "text/plain": [
       "array([[11.        , 11.09090909, 11.18181818, 11.27272727, 11.36363636,\n",
       "        11.45454545, 11.54545455, 11.63636364, 11.72727273, 11.81818182,\n",
       "        11.90909091, 12.        , 12.09090909, 12.18181818, 12.27272727,\n",
       "        12.36363636, 12.45454545, 12.54545455, 12.63636364, 12.72727273,\n",
       "        12.81818182, 12.90909091, 13.        , 13.09090909, 13.18181818,\n",
       "        13.27272727, 13.36363636, 13.45454545, 13.54545455, 13.63636364,\n",
       "        13.72727273, 13.81818182, 13.90909091, 14.        , 14.09090909,\n",
       "        14.18181818, 14.27272727, 14.36363636, 14.45454545, 14.54545455,\n",
       "        14.63636364, 14.72727273, 14.81818182, 14.90909091, 15.        ,\n",
       "        15.09090909, 15.18181818, 15.27272727, 15.36363636, 15.45454545,\n",
       "        15.54545455, 15.63636364, 15.72727273, 15.81818182, 15.90909091,\n",
       "        16.        , 16.09090909, 16.18181818, 16.27272727, 16.36363636,\n",
       "        16.45454545, 16.54545455, 16.63636364, 16.72727273, 16.81818182,\n",
       "        16.90909091, 17.        , 17.09090909, 17.18181818, 17.27272727,\n",
       "        17.36363636, 17.45454545, 17.54545455, 17.63636364, 17.72727273,\n",
       "        17.81818182, 17.90909091, 18.        , 18.09090909, 18.18181818,\n",
       "        18.27272727, 18.36363636, 18.45454545, 18.54545455, 18.63636364,\n",
       "        18.72727273, 18.81818182, 18.90909091, 19.        , 19.09090909,\n",
       "        19.18181818, 19.27272727, 19.36363636, 19.45454545, 19.54545455,\n",
       "        19.63636364, 19.72727273, 19.81818182, 19.90909091, 20.        ]])"
      ]
     },
     "execution_count": 241,
     "metadata": {},
     "output_type": "execute_result"
    }
   ],
   "source": [
    "#损失值 (True,predict)\n",
    "#reshape(-1,1)转化为1列   reshape(1,-1)转化为1行\n",
    "y_pred = y_pred.reshape(1,-1)[0]\n",
    "y_true = np.array(y).reshape(1,-1)[0]\n",
    "y_true"
   ]
  },
  {
   "cell_type": "code",
   "execution_count": 232,
   "id": "9451f2d3",
   "metadata": {},
   "outputs": [
    {
     "ename": "ValueError",
     "evalue": "continuous is not supported",
     "output_type": "error",
     "traceback": [
      "\u001b[1;31m---------------------------------------------------------------------------\u001b[0m",
      "\u001b[1;31mValueError\u001b[0m                                Traceback (most recent call last)",
      "Input \u001b[1;32mIn [232]\u001b[0m, in \u001b[0;36m<cell line: 1>\u001b[1;34m()\u001b[0m\n\u001b[1;32m----> 1\u001b[0m \u001b[43mzero_one_loss\u001b[49m\u001b[43m(\u001b[49m\u001b[43my_true\u001b[49m\u001b[43m,\u001b[49m\u001b[43my_predict\u001b[49m\u001b[43m)\u001b[49m\n",
      "File \u001b[1;32mc:\\users\\yp715hx\\appdata\\local\\programs\\python\\python39\\lib\\site-packages\\sklearn\\metrics\\_classification.py:983\u001b[0m, in \u001b[0;36mzero_one_loss\u001b[1;34m(y_true, y_pred, normalize, sample_weight)\u001b[0m\n\u001b[0;32m    922\u001b[0m \u001b[38;5;28;01mdef\u001b[39;00m \u001b[38;5;21mzero_one_loss\u001b[39m(y_true, y_pred, \u001b[38;5;241m*\u001b[39m, normalize\u001b[38;5;241m=\u001b[39m\u001b[38;5;28;01mTrue\u001b[39;00m, sample_weight\u001b[38;5;241m=\u001b[39m\u001b[38;5;28;01mNone\u001b[39;00m):\n\u001b[0;32m    923\u001b[0m     \u001b[38;5;124;03m\"\"\"Zero-one classification loss.\u001b[39;00m\n\u001b[0;32m    924\u001b[0m \n\u001b[0;32m    925\u001b[0m \u001b[38;5;124;03m    If normalize is ``True``, return the fraction of misclassifications\u001b[39;00m\n\u001b[1;32m   (...)\u001b[0m\n\u001b[0;32m    981\u001b[0m \u001b[38;5;124;03m    0.5\u001b[39;00m\n\u001b[0;32m    982\u001b[0m \u001b[38;5;124;03m    \"\"\"\u001b[39;00m\n\u001b[1;32m--> 983\u001b[0m     score \u001b[38;5;241m=\u001b[39m \u001b[43maccuracy_score\u001b[49m\u001b[43m(\u001b[49m\n\u001b[0;32m    984\u001b[0m \u001b[43m        \u001b[49m\u001b[43my_true\u001b[49m\u001b[43m,\u001b[49m\u001b[43m \u001b[49m\u001b[43my_pred\u001b[49m\u001b[43m,\u001b[49m\u001b[43m \u001b[49m\u001b[43mnormalize\u001b[49m\u001b[38;5;241;43m=\u001b[39;49m\u001b[43mnormalize\u001b[49m\u001b[43m,\u001b[49m\u001b[43m \u001b[49m\u001b[43msample_weight\u001b[49m\u001b[38;5;241;43m=\u001b[39;49m\u001b[43msample_weight\u001b[49m\n\u001b[0;32m    985\u001b[0m \u001b[43m    \u001b[49m\u001b[43m)\u001b[49m\n\u001b[0;32m    987\u001b[0m     \u001b[38;5;28;01mif\u001b[39;00m normalize:\n\u001b[0;32m    988\u001b[0m         \u001b[38;5;28;01mreturn\u001b[39;00m \u001b[38;5;241m1\u001b[39m \u001b[38;5;241m-\u001b[39m score\n",
      "File \u001b[1;32mc:\\users\\yp715hx\\appdata\\local\\programs\\python\\python39\\lib\\site-packages\\sklearn\\metrics\\_classification.py:211\u001b[0m, in \u001b[0;36maccuracy_score\u001b[1;34m(y_true, y_pred, normalize, sample_weight)\u001b[0m\n\u001b[0;32m    145\u001b[0m \u001b[38;5;124;03m\"\"\"Accuracy classification score.\u001b[39;00m\n\u001b[0;32m    146\u001b[0m \n\u001b[0;32m    147\u001b[0m \u001b[38;5;124;03mIn multilabel classification, this function computes subset accuracy:\u001b[39;00m\n\u001b[1;32m   (...)\u001b[0m\n\u001b[0;32m    207\u001b[0m \u001b[38;5;124;03m0.5\u001b[39;00m\n\u001b[0;32m    208\u001b[0m \u001b[38;5;124;03m\"\"\"\u001b[39;00m\n\u001b[0;32m    210\u001b[0m \u001b[38;5;66;03m# Compute accuracy for each possible representation\u001b[39;00m\n\u001b[1;32m--> 211\u001b[0m y_type, y_true, y_pred \u001b[38;5;241m=\u001b[39m \u001b[43m_check_targets\u001b[49m\u001b[43m(\u001b[49m\u001b[43my_true\u001b[49m\u001b[43m,\u001b[49m\u001b[43m \u001b[49m\u001b[43my_pred\u001b[49m\u001b[43m)\u001b[49m\n\u001b[0;32m    212\u001b[0m check_consistent_length(y_true, y_pred, sample_weight)\n\u001b[0;32m    213\u001b[0m \u001b[38;5;28;01mif\u001b[39;00m y_type\u001b[38;5;241m.\u001b[39mstartswith(\u001b[38;5;124m\"\u001b[39m\u001b[38;5;124mmultilabel\u001b[39m\u001b[38;5;124m\"\u001b[39m):\n",
      "File \u001b[1;32mc:\\users\\yp715hx\\appdata\\local\\programs\\python\\python39\\lib\\site-packages\\sklearn\\metrics\\_classification.py:104\u001b[0m, in \u001b[0;36m_check_targets\u001b[1;34m(y_true, y_pred)\u001b[0m\n\u001b[0;32m    102\u001b[0m \u001b[38;5;66;03m# No metrics support \"multiclass-multioutput\" format\u001b[39;00m\n\u001b[0;32m    103\u001b[0m \u001b[38;5;28;01mif\u001b[39;00m y_type \u001b[38;5;129;01mnot\u001b[39;00m \u001b[38;5;129;01min\u001b[39;00m [\u001b[38;5;124m\"\u001b[39m\u001b[38;5;124mbinary\u001b[39m\u001b[38;5;124m\"\u001b[39m, \u001b[38;5;124m\"\u001b[39m\u001b[38;5;124mmulticlass\u001b[39m\u001b[38;5;124m\"\u001b[39m, \u001b[38;5;124m\"\u001b[39m\u001b[38;5;124mmultilabel-indicator\u001b[39m\u001b[38;5;124m\"\u001b[39m]:\n\u001b[1;32m--> 104\u001b[0m     \u001b[38;5;28;01mraise\u001b[39;00m \u001b[38;5;167;01mValueError\u001b[39;00m(\u001b[38;5;124m\"\u001b[39m\u001b[38;5;132;01m{0}\u001b[39;00m\u001b[38;5;124m is not supported\u001b[39m\u001b[38;5;124m\"\u001b[39m\u001b[38;5;241m.\u001b[39mformat(y_type))\n\u001b[0;32m    106\u001b[0m \u001b[38;5;28;01mif\u001b[39;00m y_type \u001b[38;5;129;01min\u001b[39;00m [\u001b[38;5;124m\"\u001b[39m\u001b[38;5;124mbinary\u001b[39m\u001b[38;5;124m\"\u001b[39m, \u001b[38;5;124m\"\u001b[39m\u001b[38;5;124mmulticlass\u001b[39m\u001b[38;5;124m\"\u001b[39m]:\n\u001b[0;32m    107\u001b[0m     y_true \u001b[38;5;241m=\u001b[39m column_or_1d(y_true)\n",
      "\u001b[1;31mValueError\u001b[0m: continuous is not supported"
     ]
    }
   ],
   "source": [
    "#损失值 (True,predict)\n",
    "zero_one_loss(y_true,y_predict)"
   ]
  },
  {
   "cell_type": "code",
   "execution_count": 249,
   "id": "0c18d76c",
   "metadata": {},
   "outputs": [
    {
     "data": {
      "text/plain": [
       "array([[1., 1., 1., 1., 1.],\n",
       "       [1., 1., 1., 1., 1.],\n",
       "       [1., 1., 1., 1., 1.]])"
      ]
     },
     "execution_count": 249,
     "metadata": {},
     "output_type": "execute_result"
    }
   ],
   "source": [
    "# np.ones((3,5))"
   ]
  },
  {
   "cell_type": "code",
   "execution_count": null,
   "id": "cb399b9e",
   "metadata": {},
   "outputs": [],
   "source": []
  }
 ],
 "metadata": {
  "kernelspec": {
   "display_name": "Python 3 (ipykernel)",
   "language": "python",
   "name": "python3"
  },
  "language_info": {
   "codemirror_mode": {
    "name": "ipython",
    "version": 3
   },
   "file_extension": ".py",
   "mimetype": "text/x-python",
   "name": "python",
   "nbconvert_exporter": "python",
   "pygments_lexer": "ipython3",
   "version": "3.9.1"
  }
 },
 "nbformat": 4,
 "nbformat_minor": 5
}
