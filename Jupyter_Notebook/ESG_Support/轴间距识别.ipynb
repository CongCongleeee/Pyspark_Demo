{
 "cells": [
  {
   "cell_type": "code",
   "execution_count": 37,
   "id": "d743443d",
   "metadata": {},
   "outputs": [],
   "source": [
    "import pytesseract\n",
    "from PIL import Image\n",
    "import cv2\n",
    "import numpy as np"
   ]
  },
  {
   "cell_type": "code",
   "execution_count": 4,
   "id": "8d66e20e",
   "metadata": {
    "collapsed": true
   },
   "outputs": [
    {
     "name": "stdout",
     "output_type": "stream",
     "text": [
      "Looking in indexes: https://pypi.tuna.tsinghua.edu.cn/simple/Note: you may need to restart the kernel to use updated packages.\n",
      "\n",
      "Collecting pytesseract\n",
      "  Using cached https://pypi.tuna.tsinghua.edu.cn/packages/8b/0d/6efe2a9bddf1b1efe82a86fdd057f4affaeebd14347f32d03bbbbc45821c/pytesseract-0.3.9-py2.py3-none-any.whl (14 kB)\n",
      "Requirement already satisfied: pillow in c:\\users\\yp715hx\\appdata\\local\\programs\\python\\python39\\lib\\site-packages (9.1.1)\n",
      "Requirement already satisfied: opencv-python in c:\\users\\yp715hx\\appdata\\local\\programs\\python\\python39\\lib\\site-packages (4.6.0.66)\n",
      "Requirement already satisfied: packaging>=21.3 in c:\\users\\yp715hx\\appdata\\local\\programs\\python\\python39\\lib\\site-packages (from pytesseract) (21.3)\n",
      "Requirement already satisfied: numpy>=1.14.5 in c:\\users\\yp715hx\\appdata\\local\\programs\\python\\python39\\lib\\site-packages (from opencv-python) (1.23.0)\n",
      "Requirement already satisfied: pyparsing!=3.0.5,>=2.0.2 in c:\\users\\yp715hx\\appdata\\local\\programs\\python\\python39\\lib\\site-packages (from packaging>=21.3->pytesseract) (3.0.9)\n",
      "Installing collected packages: pytesseract\n",
      "Successfully installed pytesseract-0.3.9\n"
     ]
    }
   ],
   "source": [
    "# pip install pytesseract pillow  opencv-python -i https://pypi.tuna.tsinghua.edu.cn/simple/"
   ]
  },
  {
   "cell_type": "code",
   "execution_count": 65,
   "id": "65a3b596",
   "metadata": {},
   "outputs": [],
   "source": [
    "def OCR_demo(image_path):\n",
    "    # 导入OCR安装路径，如果设置了系统环境，就可以不用设置了\n",
    "    pytesseract.pytesseract.tesseract_cmd = \"C://Users/YP715HX/AppData/Local/Programs/Tesseract-OCR/tesseract.exe\"\n",
    "    # 打开要识别的图片\n",
    "\n",
    "    image = Image.open(image_path)\n",
    "    # 使用pytesseract调用image_to_string方法进行识别，传入要识别的图片，lang='chi_sim'是设置为中文识别，\n",
    "    text = pytesseract.image_to_string(image, lang='eng')\n",
    "\n",
    "    print(text)\n",
    "    return text"
   ]
  },
  {
   "cell_type": "code",
   "execution_count": 68,
   "id": "6635f914",
   "metadata": {},
   "outputs": [
    {
     "data": {
      "text/plain": [
       "['150\\n\\n',\n",
       " '\\n\\n70\\n\\n',\n",
       " '\\n\\n',\n",
       " '\\n\\n',\n",
       " '\\n\\n60\\n1880',\n",
       " '1890',\n",
       " '1900',\n",
       " '1910',\n",
       " '1920',\n",
       " '1930',\n",
       " '1940',\n",
       " '1950',\n",
       " '1960',\n",
       " '1970',\n",
       " '1980',\n",
       " '1990',\n",
       " '2000',\n",
       " '2010',\n",
       " '2020\\n']"
      ]
     },
     "execution_count": 68,
     "metadata": {},
     "output_type": "execute_result"
    }
   ],
   "source": [
    "data = OCR_demo('15_Extreme weather events - ps-x0-82-y0-42.png')\n",
    "# data = data.replace('\\n',' ')\n",
    "res = data.split(' ')\n",
    "res"
   ]
  },
  {
   "cell_type": "code",
   "execution_count": 62,
   "id": "e5d7a843",
   "metadata": {},
   "outputs": [
    {
     "data": {
      "text/plain": [
       "array([ 150,   70,   60, 1880, 1890, 1900, 1910, 1920, 1930, 1940, 1950,\n",
       "       1960, 1970, 1980, 1990, 2000, 2010, 2020])"
      ]
     },
     "execution_count": 62,
     "metadata": {},
     "output_type": "execute_result"
    }
   ],
   "source": [
    "data = OCR_demo('15_Extreme weather events - ps-x0-82-y0-42.png')\n",
    "data2 = data.replace('\\n',' ')\n",
    "res = data2.split(' ')\n",
    "#删除列表控制\n",
    "res = [i for i in res if i !='']\n",
    "res =np.array(res).astype(int)\n",
    "res"
   ]
  },
  {
   "cell_type": "code",
   "execution_count": 64,
   "id": "30a9d0e9",
   "metadata": {},
   "outputs": [
    {
     "data": {
      "text/plain": [
       "(2020, 60)"
      ]
     },
     "execution_count": 64,
     "metadata": {},
     "output_type": "execute_result"
    }
   ],
   "source": [
    "res.max(),res.min()"
   ]
  }
 ],
 "metadata": {
  "kernelspec": {
   "display_name": "Python 3 (ipykernel)",
   "language": "python",
   "name": "python3"
  },
  "language_info": {
   "codemirror_mode": {
    "name": "ipython",
    "version": 3
   },
   "file_extension": ".py",
   "mimetype": "text/x-python",
   "name": "python",
   "nbconvert_exporter": "python",
   "pygments_lexer": "ipython3",
   "version": "3.9.1"
  }
 },
 "nbformat": 4,
 "nbformat_minor": 5
}
